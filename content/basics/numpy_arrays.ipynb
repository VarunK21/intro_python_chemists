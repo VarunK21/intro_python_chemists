{
 "cells": [
  {
   "cell_type": "markdown",
   "metadata": {},
   "source": [
    "### Prerequisites \n",
    "\n",
    "- Types\n",
    "- Collections\n",
    "\n",
    "# NumPy Arrays"
   ]
  },
  {
   "cell_type": "markdown",
   "metadata": {},
   "source": [
    "In the previous tutorial, we were introduced to collections in the form of lists, tuples, and dictionaries. The python package NumPy provides a further example of a collection: an array. Arrays are collections which are engineered to easily and efficiently facilitate calculations. \n",
    "\n",
    "For example, say we have conducted an experiment to determine the melting point of water. We have repeated this experiment 10 times to obtain a more accurate calculation of the melting point. The results from the experiment can be observed in the table below. \n",
    "\n",
    "| Experiment       | Melting Point ($^{\\circ}$C)  |\n",
    "| ------------- |:-------------:|\n",
    "| 1      | 98.5 $\\pm$ 0.1|\n",
    "| 2      |   99.9  $\\pm$ 0.1  |\n",
    "| 3 |   100.6  $\\pm$ 0.1  |\n",
    "| 4 |   99.3  $\\pm$ 0.1  |\n",
    "| 5 |    100.7 $\\pm$ 0.1  |\n",
    "| 6 |   99.4   $\\pm$ 0.1 |\n",
    "| 7 |    98.4  $\\pm$ 0.1 |\n",
    "| 8 |    99.5  $\\pm$ 0.1 |\n",
    "| 9 |    99.3  $\\pm$ 0.1 |\n",
    "| 10 |   100.7  $\\pm$ 0.1  |\n"
   ]
  },
  {
   "cell_type": "markdown",
   "metadata": {},
   "source": [
    "### Importing NumPy & creating an array"
   ]
  },
  {
   "cell_type": "markdown",
   "metadata": {},
   "source": [
    "We want to store this information in a NumPy array so that we can calculate certain properties. Before we can use a NumPy array we must import the NumPy module as follows"
   ]
  },
  {
   "cell_type": "code",
   "execution_count": 1,
   "metadata": {
    "ExecuteTime": {
     "end_time": "2020-05-04T17:48:21.986993Z",
     "start_time": "2020-05-04T17:48:21.752459Z"
    }
   },
   "outputs": [],
   "source": [
    "import numpy"
   ]
  },
  {
   "cell_type": "markdown",
   "metadata": {},
   "source": [
    "Now that we have imported the NumPy package we can create a NumPy array for the melting point data collected during our experiment."
   ]
  },
  {
   "cell_type": "code",
   "execution_count": 2,
   "metadata": {
    "ExecuteTime": {
     "end_time": "2020-05-04T17:48:21.995012Z",
     "start_time": "2020-05-04T17:48:21.989331Z"
    }
   },
   "outputs": [],
   "source": [
    "melting_point_data = numpy.array([98.5, 99.9, 100.6, 99.3, 100.7, 99.4, 98.4, 99.5, 99.3, 100.7])"
   ]
  },
  {
   "cell_type": "markdown",
   "metadata": {},
   "source": [
    "### Indexing\n",
    "\n",
    "The indexing of arrays is identical to the indexing of lists. For example, if we wanted to access the melting point calculated in the sixth experiment one could use"
   ]
  },
  {
   "cell_type": "code",
   "execution_count": 3,
   "metadata": {
    "ExecuteTime": {
     "end_time": "2020-05-04T17:48:22.008428Z",
     "start_time": "2020-05-04T17:48:21.999481Z"
    }
   },
   "outputs": [
    {
     "name": "stdout",
     "output_type": "stream",
     "text": [
      "99.4\n"
     ]
    }
   ],
   "source": [
    "print(melting_point_data[5]) # recall indexing starts at zero in python"
   ]
  },
  {
   "cell_type": "markdown",
   "metadata": {},
   "source": [
    "or if one was only interested in experiments six to ten one could use"
   ]
  },
  {
   "cell_type": "code",
   "execution_count": 4,
   "metadata": {
    "ExecuteTime": {
     "end_time": "2020-05-04T17:48:22.024986Z",
     "start_time": "2020-05-04T17:48:22.014280Z"
    }
   },
   "outputs": [
    {
     "name": "stdout",
     "output_type": "stream",
     "text": [
      "[ 99.4  98.4  99.5  99.3 100.7]\n"
     ]
    }
   ],
   "source": [
    "print(melting_point_data[5:])"
   ]
  },
  {
   "cell_type": "markdown",
   "metadata": {},
   "source": [
    "### Broadcasting\n",
    "\n",
    "Following the experiment, we realise that the electric thermometer we have been using is miscalibrated by -0.5 $^{\\circ}$C. If we were using a list, float, or dictionary then we would have to manually add 0.5 $^{\\circ}$C to each value. However, a NumPy array allows this error to be corrected more simply. "
   ]
  },
  {
   "cell_type": "code",
   "execution_count": 5,
   "metadata": {
    "ExecuteTime": {
     "end_time": "2020-05-04T17:48:22.036661Z",
     "start_time": "2020-05-04T17:48:22.029171Z"
    }
   },
   "outputs": [
    {
     "name": "stdout",
     "output_type": "stream",
     "text": [
      "[ 99.  100.4 101.1  99.8 101.2  99.9  98.9 100.   99.8 101.2]\n"
     ]
    }
   ],
   "source": [
    "corrected_melting_point_data = melting_point_data + 0.5\n",
    "\n",
    "print(corrected_melting_point_data)"
   ]
  },
  {
   "cell_type": "markdown",
   "metadata": {},
   "source": [
    "The addition operator has been \"broadcasted\" to each element of the array. This \"broadcasting\" capability can also be utilised for subtraction, multiplication, and division. This is illustrated below"
   ]
  },
  {
   "cell_type": "code",
   "execution_count": 6,
   "metadata": {
    "ExecuteTime": {
     "end_time": "2020-05-04T17:48:22.047129Z",
     "start_time": "2020-05-04T17:48:22.039321Z"
    }
   },
   "outputs": [
    {
     "name": "stdout",
     "output_type": "stream",
     "text": [
      "Subtracting 0.5 from the original melting point data results in:\n",
      "[ 98.   99.4 100.1  98.8 100.2  98.9  97.9  99.   98.8 100.2]\n"
     ]
    }
   ],
   "source": [
    "subtraction_example = melting_point_data - 0.5 \n",
    "\n",
    "print( \"Subtracting 0.5 from the original melting point data results in:\")\n",
    "print(subtraction_example)"
   ]
  },
  {
   "cell_type": "code",
   "execution_count": 7,
   "metadata": {
    "ExecuteTime": {
     "end_time": "2020-05-04T17:48:22.058298Z",
     "start_time": "2020-05-04T17:48:22.050874Z"
    }
   },
   "outputs": [
    {
     "name": "stdout",
     "output_type": "stream",
     "text": [
      "Multiplying the original melting point data by two results in:\n",
      "[197.  199.8 201.2 198.6 201.4 198.8 196.8 199.  198.6 201.4]\n"
     ]
    }
   ],
   "source": [
    "multiplication_example = melting_point_data * 2\n",
    "\n",
    "print( \"Multiplying the original melting point data by two results in:\")\n",
    "print(multiplication_example)"
   ]
  },
  {
   "cell_type": "code",
   "execution_count": 8,
   "metadata": {
    "ExecuteTime": {
     "end_time": "2020-05-04T17:48:22.075289Z",
     "start_time": "2020-05-04T17:48:22.066940Z"
    }
   },
   "outputs": [
    {
     "name": "stdout",
     "output_type": "stream",
     "text": [
      "Dividing the original melting point data by 2 results in:\n",
      "[49.25 49.95 50.3  49.65 50.35 49.7  49.2  49.75 49.65 50.35]\n"
     ]
    }
   ],
   "source": [
    "division_example = melting_point_data / 2\n",
    "\n",
    "print( \"Dividing the original melting point data by 2 results in:\")\n",
    "print(division_example)"
   ]
  },
  {
   "cell_type": "markdown",
   "metadata": {},
   "source": [
    "### Speed up and datatypes\n",
    "\n",
    "Why is NumPy's broadcasting capabilities preferable to using lists? **NumPy arrays are significantly faster**. For example, if we were to take an array and a list of 100 values each, and we wished to enact the four simple operations above on every element in each collection then it would take the following times for python to complete these calculations. \n",
    "\n",
    "| Operation    | Array  | List  | Speed up factor  |\n",
    "| ------------- |:-------------:|:-------:|:------:\n",
    "| Addition      |  9.92E-07 | 6.66E-6  | 6.7  |\n",
    "| Subtraction      |  1.04E-6 | 9.73E-6  | 9.4   |\n",
    "| Multiplication      | 1.03E-6  | 8.66E-6  |  8.4 |\n",
    "| Division   | 1.11E-6  | 9.11E-6  | 8.2  |\n",
    "\n",
    "The use of NumPy arrays provides a significant speed up. This is just for one operation. When compounded throughout a code, this could be the difference between making a code feasible to run or not. \n",
    "\n",
    "This speed up occurs because an array is a simpler, less maleable collection than a list. As you have previously seen, a list can contain any type of data. Arrays are designed to only use one type of data. Every value in the array should be the same data type for maximum efficient ie all pieces of data should be floats.\n",
    "\n",
    "\n",
    "> #### A note on NumPy datatypes\n",
    ">  It is possible to have different types of data in a NumPy array. **This is not recommended**. Using different datatypes in an NumPy array will, at best, significantly reduce the efficiency of your code or, at worst, may stop your code working completely. "
   ]
  },
  {
   "cell_type": "markdown",
   "metadata": {},
   "source": [
    "### Basic NumPy functions\n",
    "\n",
    "The use of a NumPy array allows us to calculate some basic properties of our data. For example let's determine the mean and median of our data. "
   ]
  },
  {
   "cell_type": "code",
   "execution_count": 9,
   "metadata": {
    "ExecuteTime": {
     "end_time": "2020-05-04T17:48:22.091657Z",
     "start_time": "2020-05-04T17:48:22.079804Z"
    }
   },
   "outputs": [
    {
     "name": "stdout",
     "output_type": "stream",
     "text": [
      "The mean of our data is  100.13 degrees Celsius.\n",
      "The median of our data is  99.95 degrees Celsius.\n"
     ]
    }
   ],
   "source": [
    "mean = numpy.mean(corrected_melting_point_data)\n",
    "median = numpy.median(corrected_melting_point_data)\n",
    "\n",
    "print(\"The mean of our data is \", mean, \"degrees Celsius.\")\n",
    "print(\"The median of our data is \", median, \"degrees Celsius.\")"
   ]
  },
  {
   "cell_type": "markdown",
   "metadata": {},
   "source": [
    "It can be seen the mean and median melting points determined by our ten experiments are 100.13 $^{o}$C and 99.95 $^{o}$C respectively. To obtain the mean and median values we had to utilise the mean and median functions inside the numpy package. This was indicated by numpy.mean and numpy.median . The word before the dot is the package we wish to use, and the word after the dot is the function we wish to use.  \n",
    "\n",
    "NumPy is a very common package in python. It can become laborious writing numpy.function whenever we wish to utilise one of its functions. Programmers often look to be as efficient as possible with their time and use the following to reduce what they have to type"
   ]
  },
  {
   "cell_type": "code",
   "execution_count": 10,
   "metadata": {
    "ExecuteTime": {
     "end_time": "2020-05-04T17:48:22.106626Z",
     "start_time": "2020-05-04T17:48:22.094406Z"
    }
   },
   "outputs": [
    {
     "name": "stdout",
     "output_type": "stream",
     "text": [
      "The mean of our data is  100.13 degrees Celsius.\n",
      "The median of our data is  99.95 degrees Celsius.\n"
     ]
    }
   ],
   "source": [
    "import numpy as np\n",
    "\n",
    "mean = np.mean(corrected_melting_point_data)\n",
    "median = np.median(corrected_melting_point_data)\n",
    "\n",
    "print(\"The mean of our data is \", mean, \"degrees Celsius.\")\n",
    "print(\"The median of our data is \", median, \"degrees Celsius.\")"
   ]
  },
  {
   "cell_type": "markdown",
   "metadata": {},
   "source": [
    "The first line in the above cell merely allows us to write np instead of numpy every time we wish to use the NumPy package. This may seem frivolous, however as you will see in future tutorials this can save a lot of time when using packages with much longer names. \n",
    "\n",
    "### Two-dimensional arrays\n",
    "\n",
    "In the above example we explored how NumPy arrays can be used to store experimental data and correct a miscalibration issue in a one-dimensional array. What if we wanted to store the trajectory of a particle, for example:\n",
    "\n",
    "| Time  / s     | x / nm  | y / nm  | z / nm  |\n",
    "| ------------- |:-------------:|:-------:|:------:\n",
    "| 0      |  0 | 0  | 0  |\n",
    "| 1      |  1 | 2  |  1 |\n",
    "| 2      |  -1 | 3  | 4  |\n",
    "| 3      | -2  | -3  | -5  |\n",
    "| 4      |3  |  -2 |  3 |\n",
    "| 5      |  4 | -1  | 0  |\n",
    "\n",
    "NumPy allows for multi-dimensional arrays. We could store this in a 6 x 4 array such that"
   ]
  },
  {
   "cell_type": "code",
   "execution_count": 11,
   "metadata": {
    "ExecuteTime": {
     "end_time": "2020-05-04T17:48:22.116600Z",
     "start_time": "2020-05-04T17:48:22.109204Z"
    }
   },
   "outputs": [],
   "source": [
    "trajectory = np.array([[0,0,0,0],\n",
    "                       [1,1,2,1],\n",
    "                       [2,-1,3,4],\n",
    "                       [3,-2,-3,-5],\n",
    "                      [4,3,-2,3],\n",
    "                      [5,4,-1,0]])"
   ]
  },
  {
   "cell_type": "markdown",
   "metadata": {},
   "source": [
    "In the above 6 x 4 array, the first item is the time and the second, third and fourth items are the x, y, and z coordinates respectively. \n",
    "\n",
    "Again the indexing of the multi-dimensional array works the same as for lists. If we wanted to identify where the particle was after three seconds one could use"
   ]
  },
  {
   "cell_type": "code",
   "execution_count": 12,
   "metadata": {
    "ExecuteTime": {
     "end_time": "2020-05-04T17:48:22.134729Z",
     "start_time": "2020-05-04T17:48:22.119998Z"
    }
   },
   "outputs": [
    {
     "data": {
      "text/plain": [
       "array([ 3, -2, -3, -5])"
      ]
     },
     "execution_count": 12,
     "metadata": {},
     "output_type": "execute_result"
    }
   ],
   "source": [
    "trajectory[3]"
   ]
  },
  {
   "cell_type": "markdown",
   "metadata": {},
   "source": [
    "<img src=\"../images/indexing_array_3.png\" alt=\"drawing\" width=\"400\"/>\n",
    "\n",
    "which indicates the particle was at [-2,-3,-5] after three seconds. If one wished to know the y coordinate after two seconds, one could use"
   ]
  },
  {
   "cell_type": "code",
   "execution_count": 13,
   "metadata": {
    "ExecuteTime": {
     "end_time": "2020-05-04T17:48:22.144742Z",
     "start_time": "2020-05-04T17:48:22.137763Z"
    }
   },
   "outputs": [
    {
     "data": {
      "text/plain": [
       "3"
      ]
     },
     "execution_count": 13,
     "metadata": {},
     "output_type": "execute_result"
    }
   ],
   "source": [
    "trajectory[2][2]"
   ]
  },
  {
   "cell_type": "markdown",
   "metadata": {},
   "source": [
    "<img src=\"../images/indexing_array_2_2.png\" alt=\"drawing\" width=\"400\"/>\n",
    "\n",
    "If, for some reason, we wished to study the trajectory along the z coordinate only then NumPy allows us to access this information easily using"
   ]
  },
  {
   "cell_type": "code",
   "execution_count": 14,
   "metadata": {
    "ExecuteTime": {
     "end_time": "2020-05-04T17:48:22.154779Z",
     "start_time": "2020-05-04T17:48:22.147119Z"
    }
   },
   "outputs": [
    {
     "data": {
      "text/plain": [
       "array([ 0,  1,  4, -5,  3,  0])"
      ]
     },
     "execution_count": 14,
     "metadata": {},
     "output_type": "execute_result"
    }
   ],
   "source": [
    "trajectory[:,3]"
   ]
  },
  {
   "cell_type": "markdown",
   "metadata": {},
   "source": [
    "<img src=\"../images/indexing_array_z.png\" alt=\"drawing\" width=\"400\"/>"
   ]
  },
  {
   "cell_type": "markdown",
   "metadata": {},
   "source": [
    "**Exercise:** Using the boiling point data for ethanol, displayed below, use a one-dimensional array to determine the mean and median of the experimental data collected. \n",
    "\n",
    "| Experiment       | Boiling Point ($^{\\circ}$C)  |\n",
    "| ------------- |:-------------:|\n",
    "| 1      | 78.1 $\\pm$ 0.1|\n",
    "| 2      |   78.8  $\\pm$ 0.1  |\n",
    "| 3 |   78.4  $\\pm$ 0.1  |\n",
    "| 4 |   78.6  $\\pm$ 0.1  |\n",
    "| 5 |    78.4 $\\pm$ 0.1  |\n",
    "| 6 |   77.9   $\\pm$ 0.1 |\n",
    "| 7 |    79.4  $\\pm$ 0.1 |\n",
    "| 8 |    78.0  $\\pm$ 0.1 |\n",
    "| 9 |    78.7  $\\pm$ 0.1 |\n",
    "| 10 |   78.4  $\\pm$ 0.1  |\n",
    "\n",
    "Following this, create a 3 x 3 array for the coordinates of the atoms in a molecule of carbon dioxide displayed below\n",
    "\n",
    "| Atom    | x / Angstroms  | y / Angstroms  | z / Angstroms  |\n",
    "| ------------- |:-------------:|:-------:|:------:\n",
    "| C      |  0 | 0  | 0  |\n",
    "| 01      |  -1.16 | 0  | 0   |\n",
    "| 02      | 0  | 0  |  +1.16 |\n"
   ]
  },
  {
   "cell_type": "code",
   "execution_count": 15,
   "metadata": {
    "ExecuteTime": {
     "end_time": "2020-05-04T17:48:22.165877Z",
     "start_time": "2020-05-04T17:48:22.158093Z"
    }
   },
   "outputs": [],
   "source": [
    "# Write your code here"
   ]
  },
  {
   "cell_type": "markdown",
   "metadata": {},
   "source": [
    "For functions that are not built into an imported module you will be required to write your own. In the following tutorial you will learn how to do just this so that you can computationally solve any problem that may come your way. \n",
    "\n",
    "> #### A note on NumPy\n",
    "> This has been a very brief introduction to NumPy. The NumPy module has a lot more to offer than is described here. In future tutorials more of the NumPy module's functionality will be introduced. "
   ]
  }
 ],
 "metadata": {
  "kernelspec": {
   "display_name": "Python 3",
   "language": "python",
   "name": "python3"
  },
  "language_info": {
   "codemirror_mode": {
    "name": "ipython",
    "version": 3
   },
   "file_extension": ".py",
   "mimetype": "text/x-python",
   "name": "python",
   "nbconvert_exporter": "python",
   "pygments_lexer": "ipython3",
   "version": "3.7.3"
  }
 },
 "nbformat": 4,
 "nbformat_minor": 4
}
