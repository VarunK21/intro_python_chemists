{
 "cells": [
  {
   "cell_type": "markdown",
   "metadata": {},
   "source": [
    "# Why Documentation ?"
   ]
  },
  {
   "cell_type": "markdown",
   "metadata": {},
   "source": [
    "Documentation of any library is the most important and technical part . It contains everything i.e., from user-manual guides to the list of all functions supported by that library . It contains the purpose of that function , what all arguments that function takes and what the function returns .\n",
    "Documentation contains the installation guide which would help a programmer to understand the procedure to install it in his Desktop/Laptop .\n"
   ]
  },
  {
   "cell_type": "markdown",
   "metadata": {},
   "source": [
    "# How to search Documentation of any library ?\n",
    " \n"
   ]
  },
  {
   "cell_type": "markdown",
   "metadata": {},
   "source": [
    "Irrespective of what language or project you are working on , you must be using libraries or inbuilt functions in your code and to understand these functions in a better way you must go through the documentations . \n",
    "To search any documentation , you can either search it on Google or else you can go on this site  https://devdocs.io/ which contains documentation of almost all the libraries existing today.\n",
    "\n",
    "I have mentioned some of the most frequently used libraries along with the links of their  documentation . You can refer to them .\n"
   ]
  },
  {
   "cell_type": "markdown",
   "metadata": {},
   "source": [
    "# Most frequently used Libraries - \n"
   ]
  },
  {
   "cell_type": "markdown",
   "metadata": {},
   "source": [
    "1.) Matplotlib - \n",
    "It is a python library which allows the user to do Data Visualization in a more easy and effective way. It provides us with methods to plot various graphs such as bar graphs, pie cahrts, histograms etc. This library is extensively used in understanding various trends from large datasets with the help of visuals or graphics .\n",
    "\n",
    "You can refer to the below mentioned links for the documentation of matplotlib library -\n",
    "\n",
    "https://matplotlib.org/contents.html , https://devdocs.io/matplotlib~3.1/\n",
    "\n"
   ]
  },
  {
   "cell_type": "markdown",
   "metadata": {},
   "source": [
    "2.) Numpy - \n",
    "Numpy refers to Numerical Python which allows the users to easily complete the mathematical computations on the large datasets . It is basically more useful in mathematical operations containing matrices i.e., matrix reshaping, inverse of matrix, representation of images in the form of matrix etc . It easily handles large matrix operations very efficiently . \n",
    "\n",
    "You can refer to the below mentioned links for the documentation of Numpy library -\n",
    "\n",
    "https://numpy.org/doc/ , https://devdocs.io/numpy~1.15/ "
   ]
  },
  {
   "cell_type": "markdown",
   "metadata": {},
   "source": [
    "3.) Scipy - \n",
    "Scipy refers to Scientific Python ehose which is based on Numpy but provides users with a much wider range of functions for solving mathematical/scientific problems . Scipy provides integration, differentiation, equation solving etc functions as tools which helps the users to perform complex calculations in a fraction of second . \n",
    "\n",
    "You can refer to the below mentioned links for the documentation of Scipy library -\n",
    "\n",
    "https://docs.scipy.org/doc/scipy/reference/ \n"
   ]
  },
  {
   "cell_type": "markdown",
   "metadata": {},
   "source": [
    "4.) Pandas - \n",
    "Pandas is a python library which provides features such as Data Handling(representing the data in the form of rows and coloumns), Data Selection(selcting rows and coloumns), Data Exploration(which are the missing the values or outliers) , Data Structuring etc. It provides us the feature of reading various forms of files such as .txt, .csv etc and helps us in saving these files too in whatsoever format you want.\n",
    "\n",
    "You can refer to the below metioned links for the documentation of Pandas library -\n",
    "\n",
    "https://pandas.pydata.org/docs/ , https://devdocs.io/pandas~0.25/ \n"
   ]
  },
  {
   "cell_type": "markdown",
   "metadata": {},
   "source": [
    "5.) Sympy - \n",
    "Sympy refers to Symbolic Python which provides with various mathematical features such as combinatorics, geometry, calculus, solving equations etc. You can say it is a more extended and vast version of Scipy.\n",
    "\n",
    "You can refer to the below mentioned links for the documentation of Sympy library - \n",
    "\n",
    "https://docs.sympy.org/latest/index.html \n",
    "\n"
   ]
  },
  {
   "cell_type": "markdown",
   "metadata": {},
   "source": [
    "6.) ScikitLearn - \n",
    "ScikitLearn is a python library especially built to help in Machine Learning related tasks . It provides us with already built traditional models which one can use with a simple function call instead of writing pages and pages of codes. Its features includes regression, clustering, classification models and Data preprocessing(such as normalization) etc.\n",
    "\n",
    "You can refer to the below mentioned links for the documentation of ScikitLearn library -\n",
    "\n",
    "https://scikit-learn.org/stable/ , https://devdocs.io/scikit_learn/ \n",
    " \n"
   ]
  },
  {
   "cell_type": "markdown",
   "metadata": {},
   "source": [
    "For any other library I have already mentioned that you can either search it on Google or go on https://devdocs.io/ which contains documentation of all the libraries .\n"
   ]
  }
 ],
 "metadata": {
  "kernelspec": {
   "display_name": "Python 3",
   "language": "python",
   "name": "python3"
  },
  "language_info": {
   "codemirror_mode": {
    "name": "ipython",
    "version": 3
   },
   "file_extension": ".py",
   "mimetype": "text/x-python",
   "name": "python",
   "nbconvert_exporter": "python",
   "pygments_lexer": "ipython3",
   "version": "3.6.9"
  }
 },
 "nbformat": 4,
 "nbformat_minor": 2
}
